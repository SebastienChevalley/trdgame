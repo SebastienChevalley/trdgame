{
 "cells": [
  {
   "cell_type": "markdown",
   "metadata": {},
   "source": [
    "docker run -it --link trdgame_db_1  python:3.5 bash"
   ]
  },
  {
   "cell_type": "code",
   "execution_count": null,
   "metadata": {},
   "outputs": [],
   "source": [
    "import pandas as pd"
   ]
  },
  {
   "cell_type": "code",
   "execution_count": null,
   "metadata": {},
   "outputs": [],
   "source": [
    "from pymongo import MongoClient"
   ]
  },
  {
   "cell_type": "markdown",
   "metadata": {},
   "source": [
    "# connection"
   ]
  },
  {
   "cell_type": "code",
   "execution_count": null,
   "metadata": {},
   "outputs": [],
   "source": [
    "mongo_host = 'trdgame_db_1'\n",
    "mongo_db = 'api'"
   ]
  },
  {
   "cell_type": "code",
   "execution_count": null,
   "metadata": {},
   "outputs": [],
   "source": [
    "client = MongoClient(mongo_host, 27017)\n",
    "client.server_info()"
   ]
  },
  {
   "cell_type": "code",
   "execution_count": null,
   "metadata": {},
   "outputs": [],
   "source": [
    "client.database_names()"
   ]
  },
  {
   "cell_type": "code",
   "execution_count": null,
   "metadata": {},
   "outputs": [],
   "source": [
    "db = client[mongo_db] #flask app"
   ]
  },
  {
   "cell_type": "code",
   "execution_count": null,
   "metadata": {},
   "outputs": [],
   "source": [
    "db.collection_names()"
   ]
  },
  {
   "cell_type": "markdown",
   "metadata": {},
   "source": [
    "# get raw data"
   ]
  },
  {
   "cell_type": "markdown",
   "metadata": {},
   "source": [
    "## games"
   ]
  },
  {
   "cell_type": "code",
   "execution_count": null,
   "metadata": {},
   "outputs": [],
   "source": [
    "players_games = db['players_games']\n",
    "players_games.count()"
   ]
  },
  {
   "cell_type": "code",
   "execution_count": null,
   "metadata": {},
   "outputs": [],
   "source": [
    "list_players_games = []\n",
    "cursor = players_games.find({})\n",
    "for doc in cursor:\n",
    "    list_players_games.append(doc)\n",
    "len(list_players_games)"
   ]
  },
  {
   "cell_type": "markdown",
   "metadata": {},
   "source": [
    "### games pre-processing"
   ]
  },
  {
   "cell_type": "code",
   "execution_count": null,
   "metadata": {},
   "outputs": [],
   "source": [
    "bridge_gameid_playerid = {}\n",
    "\n",
    "# unwrap objects\n",
    "obj_header = ['game', 'player', 'portfolio', 'server']\n",
    "obj_second_level_header = ['portfolio_positions']\n",
    "key_cleaning = ['game_currentRound', 'game_gameOver', 'game_numberPlayers', \n",
    "                'player_omsOption', 'player_ranking', 'player_rankingChg', 'player_rankingPrev', 'player_textTrader', \n",
    "               'portfolio_positions_derivatives']\n",
    "for doc in list_players_games:\n",
    "    \n",
    "    del doc['executedOrders']\n",
    "    del doc['pendingOrders']\n",
    "    \n",
    "    for header in obj_header:\n",
    "        for key in doc[header]:\n",
    "            doc[header + '_' + key] = doc[header][key]\n",
    "        del doc[header]\n",
    "    \n",
    "    for header in obj_second_level_header:\n",
    "        for key in doc[header]:\n",
    "            doc[header + '_' + key] = doc[header][key]\n",
    "        del doc[header]\n",
    "    \n",
    "    for key in key_cleaning:\n",
    "        del doc[key]\n",
    "    \n",
    "    bridge_gameid_playerid[ str(doc['_id']) ] = doc['player_name']\n",
    "    \n",
    "    doc['_id'] = str( doc['_id'] ) #mongo-ObjectId\n",
    "\n",
    "list_players_games[0]"
   ]
  },
  {
   "cell_type": "code",
   "execution_count": null,
   "metadata": {},
   "outputs": [],
   "source": [
    "# df_players_games = pd.DataFrame(list(players_games.find())) # direct one line\n",
    "df_players_games = pd.DataFrame(list_players_games)\n",
    "df_players_games"
   ]
  },
  {
   "cell_type": "markdown",
   "metadata": {},
   "source": [
    "## orders"
   ]
  },
  {
   "cell_type": "code",
   "execution_count": null,
   "metadata": {},
   "outputs": [],
   "source": [
    "orders = db['orders']\n",
    "orders.count()"
   ]
  },
  {
   "cell_type": "code",
   "execution_count": null,
   "metadata": {},
   "outputs": [],
   "source": [
    "list_orders = []\n",
    "cursor = orders.find({})\n",
    "for doc in cursor:\n",
    "    list_orders.append(doc)\n",
    "len(list_orders)"
   ]
  },
  {
   "cell_type": "markdown",
   "metadata": {},
   "source": [
    "### orders pre-processing"
   ]
  },
  {
   "cell_type": "code",
   "execution_count": null,
   "metadata": {},
   "outputs": [],
   "source": [
    "# unwrap objects\n",
    "dict_orders = {}\n",
    "obj_header = ['mkcontext', 'prtcontext']\n",
    "key_cleaning = []\n",
    "for doc in list_orders:\n",
    "    \n",
    "    for header in obj_header:\n",
    "        for key in doc[header]:\n",
    "            doc[header + '_' + key] = doc[header][key]\n",
    "        del doc[header]\n",
    "    \n",
    "    for key in key_cleaning:\n",
    "        del doc[key]\n",
    "    \n",
    "    doc['player_name'] = bridge_gameid_playerid[ doc['game_id'] ]\n",
    "    \n",
    "    dict_orders[ str(doc['_id']) ] = doc\n",
    "    \n",
    "    doc['_id'] = str( doc['_id'] )\n",
    "\n",
    "list_orders[0]"
   ]
  },
  {
   "cell_type": "code",
   "execution_count": null,
   "metadata": {},
   "outputs": [],
   "source": [
    "#df_orders = pd.DataFrame(list(orders.find())) # direct one line\n",
    "df_orders = pd.DataFrame(list_orders)\n",
    "df_orders.head()"
   ]
  },
  {
   "cell_type": "markdown",
   "metadata": {},
   "source": [
    "## executions"
   ]
  },
  {
   "cell_type": "code",
   "execution_count": null,
   "metadata": {},
   "outputs": [],
   "source": [
    "executions = db['executions']\n",
    "executions.count()"
   ]
  },
  {
   "cell_type": "code",
   "execution_count": null,
   "metadata": {},
   "outputs": [],
   "source": [
    "list_executions = []\n",
    "cursor = executions.find({})\n",
    "for doc in cursor:\n",
    "    list_executions.append(doc)\n",
    "len(list_executions)"
   ]
  },
  {
   "cell_type": "markdown",
   "metadata": {},
   "source": [
    "### executions pre-processing"
   ]
  },
  {
   "cell_type": "code",
   "execution_count": null,
   "metadata": {},
   "outputs": [],
   "source": [
    "# unwrap objects\n",
    "obj_header = ['mkcontext', 'prtcontext']\n",
    "key_cleaning = ['ordertimestamp', 'ordertype', 'orderprice']\n",
    "for doc in list_executions:\n",
    "    \n",
    "    for header in obj_header:\n",
    "        for key in doc[header]:\n",
    "            doc[header + '_' + key] = doc[header][key]\n",
    "        del doc[header]\n",
    "    \n",
    "    doc['player_name'] = bridge_gameid_playerid[ doc['game_id'] ]\n",
    "    \n",
    "    if 'orderid' in doc:\n",
    "        order = dict_orders[ doc['orderid'] ]\n",
    "        for key in order:\n",
    "            doc['order_' + key] = order[key]\n",
    "        \n",
    "        del doc['orderid']\n",
    "        #doc['order_id'] = str( doc['order__id'] )\n",
    "        #del doc['order__id']\n",
    "    \n",
    "    for key in key_cleaning:\n",
    "        del doc[key]\n",
    "    \n",
    "    doc['_id'] = str( doc['_id'] )\n",
    "            \n",
    "\n",
    "list_executions[1]"
   ]
  },
  {
   "cell_type": "code",
   "execution_count": null,
   "metadata": {},
   "outputs": [],
   "source": [
    "#df_executions = pd.DataFrame(list(executions.find())) # direct one line\n",
    "df_executions = pd.DataFrame(list_executions)\n",
    "df_executions.head()"
   ]
  },
  {
   "cell_type": "markdown",
   "metadata": {},
   "source": [
    "## surveys"
   ]
  },
  {
   "cell_type": "code",
   "execution_count": null,
   "metadata": {},
   "outputs": [],
   "source": [
    "surveys = db['surveys']\n",
    "surveys.count()"
   ]
  },
  {
   "cell_type": "code",
   "execution_count": null,
   "metadata": {},
   "outputs": [],
   "source": [
    "list_surveys = []\n",
    "cursor = surveys.find({})\n",
    "for doc in cursor:\n",
    "    list_surveys.append(doc)\n",
    "len(list_surveys)"
   ]
  },
  {
   "cell_type": "markdown",
   "metadata": {},
   "source": [
    "### surveys pre-processing"
   ]
  },
  {
   "cell_type": "code",
   "execution_count": null,
   "metadata": {},
   "outputs": [],
   "source": [
    "obj_header = ['response', 'prtcontext', 'mkcontext']\n",
    "for doc in list_surveys:\n",
    "    doc['prtcontext'] = doc['submittedContent']['prtcontext']\n",
    "    del doc['submittedContent']['prtcontext']\n",
    "    \n",
    "    doc['mkcontext'] = doc['submittedContent']['mkcontext']\n",
    "    del doc['submittedContent']['mkcontext']\n",
    "    \n",
    "    doc['game_id'] = doc['submittedContent']['game_id']\n",
    "    del doc['submittedContent']['game_id']\n",
    "    \n",
    "    doc['player_name'] = bridge_gameid_playerid[ doc['game_id'] ]\n",
    "    \n",
    "    for header in obj_header:\n",
    "        for key in doc[header]:\n",
    "            doc[header + '_' + key] = doc[header][key]\n",
    "        del doc[header]\n",
    "    \n",
    "    doc['_id'] = str( doc['_id'] )\n",
    "\n",
    "list_surveys[0]"
   ]
  },
  {
   "cell_type": "code",
   "execution_count": null,
   "metadata": {},
   "outputs": [],
   "source": [
    "#df_surveys = pd.DataFrame(list(surveys.find())) # direct one line\n",
    "df_surveys = pd.DataFrame(list_surveys)\n",
    "df_surveys"
   ]
  },
  {
   "cell_type": "code",
   "execution_count": null,
   "metadata": {},
   "outputs": [],
   "source": [
    "df_surveys[df_surveys['name'] == 'risks']"
   ]
  },
  {
   "cell_type": "code",
   "execution_count": null,
   "metadata": {},
   "outputs": [],
   "source": [
    "df_surveys[df_surveys['name'] == 'derivatives']"
   ]
  },
  {
   "cell_type": "markdown",
   "metadata": {},
   "source": [
    "# exports"
   ]
  },
  {
   "cell_type": "code",
   "execution_count": null,
   "metadata": {},
   "outputs": [],
   "source": [
    "df_players_games.to_json('players_games.txt', orient='records')"
   ]
  },
  {
   "cell_type": "code",
   "execution_count": null,
   "metadata": {},
   "outputs": [],
   "source": [
    "df_orders.to_json('orders.txt', orient='records')"
   ]
  },
  {
   "cell_type": "code",
   "execution_count": null,
   "metadata": {},
   "outputs": [],
   "source": [
    "df_executions.to_json('executions.txt', orient='records')"
   ]
  },
  {
   "cell_type": "code",
   "execution_count": null,
   "metadata": {},
   "outputs": [],
   "source": [
    "df_surveys.to_json('surveys.txt', orient='records')"
   ]
  }
 ],
 "metadata": {
  "kernelspec": {
   "display_name": "Python 3",
   "language": "python",
   "name": "python3"
  },
  "language_info": {
   "codemirror_mode": {
    "name": "ipython",
    "version": 3
   },
   "file_extension": ".py",
   "mimetype": "text/x-python",
   "name": "python",
   "nbconvert_exporter": "python",
   "pygments_lexer": "ipython3",
   "version": "3.5.4"
  }
 },
 "nbformat": 4,
 "nbformat_minor": 2
}
